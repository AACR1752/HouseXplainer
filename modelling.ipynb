{
 "cells": [
  {
   "cell_type": "markdown",
   "metadata": {},
   "source": [
    "Install any necessary packages you need to run the following and test the code locally."
   ]
  },
  {
   "cell_type": "code",
   "execution_count": 1,
   "metadata": {},
   "outputs": [
    {
     "name": "stderr",
     "output_type": "stream",
     "text": [
      "2025-03-13 16:33:21.058 WARNING streamlit.runtime.caching.cache_data_api: No runtime found, using MemoryCacheStorageManager\n"
     ]
    }
   ],
   "source": [
    "import numpy as np\n",
    "import pandas as pd\n",
    "from sklearn.model_selection import train_test_split\n",
    "from sklearn.linear_model import Ridge\n",
    "import modules as md\n",
    "from sklearn.ensemble import RandomForestRegressor\n",
    "from sklearn.metrics import mean_squared_error, r2_score\n",
    "import bronze_to_silver_cleaning as btc\n",
    "import preprocessing as pp\n",
    "import feature_engineering as fe\n",
    "import geopandas as gpd\n",
    "from sklearn.preprocessing import StandardScaler\n",
    "from sklearn.pipeline import make_pipeline"
   ]
  },
  {
   "cell_type": "markdown",
   "metadata": {},
   "source": [
    "We have decided to run with Random Forest."
   ]
  },
  {
   "cell_type": "code",
   "execution_count": 2,
   "metadata": {},
   "outputs": [],
   "source": [
    "model_choice = \"Random Forest\""
   ]
  },
  {
   "cell_type": "markdown",
   "metadata": {},
   "source": [
    "The following will create the final consolidated table for ML. Look into the code for details."
   ]
  },
  {
   "cell_type": "code",
   "execution_count": 3,
   "metadata": {},
   "outputs": [
    {
     "name": "stderr",
     "output_type": "stream",
     "text": [
      "/Users/sunith/Library/CloudStorage/OneDrive-UniversityofWaterloo/MGMT Winter 2025/HouseXplainer/preprocessing.py:114: SettingWithCopyWarning: \n",
      "A value is trying to be set on a copy of a slice from a DataFrame.\n",
      "Try using .loc[row_indexer,col_indexer] = value instead\n",
      "\n",
      "See the caveats in the documentation: https://pandas.pydata.org/pandas-docs/stable/user_guide/indexing.html#returning-a-view-versus-a-copy\n",
      "  missing_neighborhoods_x['neighbourhood'] = predicted_neighborhoods\n"
     ]
    }
   ],
   "source": [
    "path = \"data/housesigmadata\"\n",
    "combined_df = pp.combine_dataframes(path)\n",
    "combined_df = combined_df[combined_df['city'].str.contains('Waterloo', case=False, na=False)]\n",
    "combined_df['address'] = combined_df['address'].str.replace(' - Waterloo', '')\n",
    "output = gpd.read_file('data/good_data/address_dictionary_neighbourhoods.geojson')\n",
    "output = pd.DataFrame(output)\n",
    "df_schools = pd.read_csv('data/good_data/schools.csv')\n",
    "amenities = pd.read_csv('data/good_data/amenities.csv')\n",
    "result_df = pp.process_housing(df_house_sigma=combined_df, output=output)\n",
    "final_filled_df = pp.predict_missing_neighbourhoods(result_df)\n",
    "final_filled_df = pp.add_school_details(final_filled_df, df_schools)\n",
    "final_filled_df = pp.add_amenities_details(final_filled_df, amenities)\n",
    "df_house_sigma = combined_df.drop(columns=['address'])\n",
    "uploaded_file = pd.merge(df_house_sigma, final_filled_df, on='listing_id', how='inner')\n",
    "houses = btc.clean_data(uploaded_file)"
   ]
  },
  {
   "cell_type": "code",
   "execution_count": 4,
   "metadata": {},
   "outputs": [
    {
     "data": {
      "application/vnd.microsoft.datawrangler.viewer.v0+json": {
       "columns": [
        {
         "name": "index",
         "rawType": "int64",
         "type": "integer"
        },
        {
         "name": "listing",
         "rawType": "object",
         "type": "string"
        },
        {
         "name": "listing_url",
         "rawType": "object",
         "type": "string"
        },
        {
         "name": "city",
         "rawType": "object",
         "type": "string"
        },
        {
         "name": "type",
         "rawType": "object",
         "type": "string"
        },
        {
         "name": "for_sale_price",
         "rawType": "object",
         "type": "unknown"
        },
        {
         "name": "listed",
         "rawType": "object",
         "type": "string"
        },
        {
         "name": "sold",
         "rawType": "object",
         "type": "string"
        },
        {
         "name": "sold_conditional",
         "rawType": "object",
         "type": "unknown"
        },
        {
         "name": "expired",
         "rawType": "object",
         "type": "unknown"
        },
        {
         "name": "event_hist",
         "rawType": "object",
         "type": "string"
        },
        {
         "name": "listing_hist",
         "rawType": "object",
         "type": "string"
        },
        {
         "name": "event_date_start",
         "rawType": "object",
         "type": "string"
        },
        {
         "name": "event_start_end",
         "rawType": "object",
         "type": "string"
        },
        {
         "name": "event_price",
         "rawType": "object",
         "type": "string"
        },
        {
         "name": "listing_id",
         "rawType": "object",
         "type": "string"
        },
        {
         "name": "event",
         "rawType": "object",
         "type": "string"
        },
        {
         "name": "sold_date",
         "rawType": "object",
         "type": "string"
        },
        {
         "name": "ai_summary",
         "rawType": "object",
         "type": "unknown"
        },
        {
         "name": "description",
         "rawType": "object",
         "type": "string"
        },
        {
         "name": "image-src",
         "rawType": "object",
         "type": "string"
        },
        {
         "name": "address_lower",
         "rawType": "object",
         "type": "string"
        },
        {
         "name": "civic_addr",
         "rawType": "object",
         "type": "string"
        },
        {
         "name": "latitude",
         "rawType": "float64",
         "type": "float"
        },
        {
         "name": "longitude",
         "rawType": "float64",
         "type": "float"
        },
        {
         "name": "geometry",
         "rawType": "geometry",
         "type": "unknown"
        },
        {
         "name": "neighbourhood",
         "rawType": "object",
         "type": "string"
        },
        {
         "name": "distance_to_nearest_school",
         "rawType": "float64",
         "type": "float"
        },
        {
         "name": "log_distance_to_nearest_school",
         "rawType": "float64",
         "type": "float"
        },
        {
         "name": "nearest_school_type",
         "rawType": "int64",
         "type": "integer"
        },
        {
         "name": "amenities_count_1km",
         "rawType": "int64",
         "type": "integer"
        },
        {
         "name": "amenities_types_1km",
         "rawType": "object",
         "type": "string"
        },
        {
         "name": "amenities_objectids_1km",
         "rawType": "object",
         "type": "string"
        },
        {
         "name": "amenities_type_codes_1km",
         "rawType": "object",
         "type": "string"
        },
        {
         "name": "tax",
         "rawType": "object",
         "type": "string"
        },
        {
         "name": "parking",
         "rawType": "object",
         "type": "string"
        },
        {
         "name": "basement",
         "rawType": "object",
         "type": "string"
        },
        {
         "name": "listing_#",
         "rawType": "object",
         "type": "string"
        },
        {
         "name": "data_source",
         "rawType": "object",
         "type": "string"
        },
        {
         "name": "listing_brokerage",
         "rawType": "object",
         "type": "string"
        },
        {
         "name": "days_on_market",
         "rawType": "object",
         "type": "string"
        },
        {
         "name": "property_days_on_market",
         "rawType": "object",
         "type": "string"
        },
        {
         "name": "status_change",
         "rawType": "object",
         "type": "string"
        },
        {
         "name": "listed_on",
         "rawType": "object",
         "type": "string"
        },
        {
         "name": "updated_on",
         "rawType": "object",
         "type": "string"
        },
        {
         "name": "year_built",
         "rawType": "object",
         "type": "unknown"
        },
        {
         "name": "lot_irregularities",
         "rawType": "object",
         "type": "unknown"
        },
        {
         "name": "maintenance",
         "rawType": "object",
         "type": "unknown"
        },
        {
         "name": "locker",
         "rawType": "object",
         "type": "unknown"
        },
        {
         "name": "included_utility",
         "rawType": "object",
         "type": "unknown"
        },
        {
         "name": "property_type",
         "rawType": "object",
         "type": "string"
        },
        {
         "name": "style",
         "rawType": "object",
         "type": "string"
        },
        {
         "name": "fronting_on",
         "rawType": "object",
         "type": "unknown"
        },
        {
         "name": "community",
         "rawType": "object",
         "type": "string"
        },
        {
         "name": "municipality",
         "rawType": "object",
         "type": "string"
        },
        {
         "name": "bedrooms",
         "rawType": "object",
         "type": "string"
        },
        {
         "name": "bathrooms",
         "rawType": "object",
         "type": "string"
        },
        {
         "name": "bathrooms_detail",
         "rawType": "object",
         "type": "unknown"
        },
        {
         "name": "basement_type",
         "rawType": "object",
         "type": "unknown"
        },
        {
         "name": "kitchens",
         "rawType": "object",
         "type": "string"
        },
        {
         "name": "rooms",
         "rawType": "object",
         "type": "string"
        },
        {
         "name": "family_room",
         "rawType": "object",
         "type": "unknown"
        },
        {
         "name": "water",
         "rawType": "object",
         "type": "string"
        },
        {
         "name": "cooling",
         "rawType": "object",
         "type": "unknown"
        },
        {
         "name": "heating_type",
         "rawType": "object",
         "type": "unknown"
        },
        {
         "name": "heating_fuel",
         "rawType": "object",
         "type": "unknown"
        },
        {
         "name": "construction",
         "rawType": "object",
         "type": "string"
        },
        {
         "name": "driveway",
         "rawType": "object",
         "type": "unknown"
        },
        {
         "name": "garage_type",
         "rawType": "object",
         "type": "unknown"
        },
        {
         "name": "garage",
         "rawType": "object",
         "type": "string"
        },
        {
         "name": "parking_places",
         "rawType": "object",
         "type": "unknown"
        },
        {
         "name": "total_parking_space",
         "rawType": "object",
         "type": "string"
        },
        {
         "name": "sewer",
         "rawType": "object",
         "type": "string"
        },
        {
         "name": "frontage",
         "rawType": "object",
         "type": "unknown"
        },
        {
         "name": "depth",
         "rawType": "object",
         "type": "string"
        },
        {
         "name": "zoning",
         "rawType": "object",
         "type": "string"
        },
        {
         "name": "lot_size",
         "rawType": "object",
         "type": "string"
        },
        {
         "name": "lot_size_code",
         "rawType": "object",
         "type": "unknown"
        },
        {
         "name": "acreage",
         "rawType": "object",
         "type": "string"
        },
        {
         "name": "cross_street",
         "rawType": "object",
         "type": "unknown"
        },
        {
         "name": "frontage_type",
         "rawType": "object",
         "type": "unknown"
        },
        {
         "name": "feature",
         "rawType": "object",
         "type": "unknown"
        },
        {
         "name": "appliances_included",
         "rawType": "object",
         "type": "unknown"
        },
        {
         "name": "bedrooms_above_ground",
         "rawType": "object",
         "type": "unknown"
        },
        {
         "name": "bedrooms_below_ground",
         "rawType": "object",
         "type": "unknown"
        },
        {
         "name": "beds_on_level_second",
         "rawType": "object",
         "type": "unknown"
        },
        {
         "name": "full_bathrooms",
         "rawType": "object",
         "type": "unknown"
        },
        {
         "name": "half_bathrooms",
         "rawType": "object",
         "type": "unknown"
        },
        {
         "name": "2_piece_bathrooms",
         "rawType": "object",
         "type": "unknown"
        },
        {
         "name": "3_piece_bathrooms",
         "rawType": "object",
         "type": "unknown"
        },
        {
         "name": "4_piece_bathrooms",
         "rawType": "object",
         "type": "unknown"
        },
        {
         "name": "5_plus_piece_bathrooms",
         "rawType": "object",
         "type": "unknown"
        },
        {
         "name": "baths_on_level_second",
         "rawType": "object",
         "type": "unknown"
        },
        {
         "name": "kitchens_above_ground",
         "rawType": "object",
         "type": "unknown"
        },
        {
         "name": "kitchens_below_ground",
         "rawType": "object",
         "type": "unknown"
        },
        {
         "name": "laundry",
         "rawType": "object",
         "type": "unknown"
        },
        {
         "name": "laundry_features",
         "rawType": "object",
         "type": "unknown"
        },
        {
         "name": "laundries_on_level_second",
         "rawType": "object",
         "type": "unknown"
        },
        {
         "name": "heating",
         "rawType": "object",
         "type": "unknown"
        },
        {
         "name": "size",
         "rawType": "object",
         "type": "unknown"
        },
        {
         "name": "building_age",
         "rawType": "object",
         "type": "unknown"
        },
        {
         "name": "architecture_style",
         "rawType": "object",
         "type": "unknown"
        },
        {
         "name": "direction",
         "rawType": "object",
         "type": "unknown"
        },
        {
         "name": "roof",
         "rawType": "object",
         "type": "unknown"
        },
        {
         "name": "foundation_type",
         "rawType": "object",
         "type": "unknown"
        },
        {
         "name": "security",
         "rawType": "object",
         "type": "unknown"
        },
        {
         "name": "driveway_parking",
         "rawType": "object",
         "type": "unknown"
        },
        {
         "name": "parking_features",
         "rawType": "object",
         "type": "unknown"
        },
        {
         "name": "lot_features",
         "rawType": "object",
         "type": "unknown"
        },
        {
         "name": "farm_land_area_units",
         "rawType": "object",
         "type": "unknown"
        },
        {
         "name": "frontage_length",
         "rawType": "object",
         "type": "unknown"
        },
        {
         "name": "baths_on_level_basement",
         "rawType": "object",
         "type": "unknown"
        },
        {
         "name": "fireplace",
         "rawType": "object",
         "type": "unknown"
        },
        {
         "name": "fireplace_total",
         "rawType": "object",
         "type": "unknown"
        },
        {
         "name": "laundries_on_level_main",
         "rawType": "object",
         "type": "unknown"
        },
        {
         "name": "exterior_feature",
         "rawType": "object",
         "type": "unknown"
        },
        {
         "name": "pool",
         "rawType": "object",
         "type": "unknown"
        },
        {
         "name": "topography",
         "rawType": "object",
         "type": "unknown"
        },
        {
         "name": "appliances_excluded",
         "rawType": "object",
         "type": "unknown"
        },
        {
         "name": "beds_on_level_basement",
         "rawType": "object",
         "type": "unknown"
        },
        {
         "name": "laundries_on_level_basement",
         "rawType": "object",
         "type": "unknown"
        },
        {
         "name": "water_treatment",
         "rawType": "object",
         "type": "unknown"
        },
        {
         "name": "utilities",
         "rawType": "object",
         "type": "unknown"
        },
        {
         "name": "association_fee",
         "rawType": "object",
         "type": "unknown"
        },
        {
         "name": "association_fee_frequency",
         "rawType": "object",
         "type": "unknown"
        },
        {
         "name": "association_fee_includes",
         "rawType": "object",
         "type": "unknown"
        },
        {
         "name": "beds_on_level_third",
         "rawType": "object",
         "type": "unknown"
        },
        {
         "name": "baths_on_level_third",
         "rawType": "object",
         "type": "unknown"
        },
        {
         "name": "baths_on_level_upper",
         "rawType": "object",
         "type": "unknown"
        },
        {
         "name": "view",
         "rawType": "object",
         "type": "unknown"
        },
        {
         "name": "waterfront_features",
         "rawType": "object",
         "type": "unknown"
        },
        {
         "name": "electricity",
         "rawType": "object",
         "type": "unknown"
        },
        {
         "name": "gas",
         "rawType": "object",
         "type": "unknown"
        },
        {
         "name": "cable",
         "rawType": "object",
         "type": "unknown"
        },
        {
         "name": "telephone",
         "rawType": "object",
         "type": "unknown"
        },
        {
         "name": "cul_de_sac",
         "rawType": "object",
         "type": "unknown"
        },
        {
         "name": "fenced_yard",
         "rawType": "object",
         "type": "unknown"
        },
        {
         "name": "park",
         "rawType": "object",
         "type": "unknown"
        },
        {
         "name": "school",
         "rawType": "object",
         "type": "unknown"
        },
        {
         "name": "school_bus_route",
         "rawType": "object",
         "type": "unknown"
        },
        {
         "name": "sloping",
         "rawType": "object",
         "type": "unknown"
        },
        {
         "name": "grnbelt/conserv",
         "rawType": "object",
         "type": "unknown"
        },
        {
         "name": "place_of_worship",
         "rawType": "object",
         "type": "unknown"
        },
        {
         "name": "baths_on_level_lower",
         "rawType": "object",
         "type": "unknown"
        },
        {
         "name": "structures",
         "rawType": "object",
         "type": "unknown"
        },
        {
         "name": "public_transit",
         "rawType": "object",
         "type": "unknown"
        },
        {
         "name": "laundries_on_level_lower",
         "rawType": "object",
         "type": "unknown"
        },
        {
         "name": "rec_centre",
         "rawType": "object",
         "type": "unknown"
        },
        {
         "name": "library",
         "rawType": "object",
         "type": "unknown"
        },
        {
         "name": "hospital",
         "rawType": "object",
         "type": "unknown"
        },
        {
         "name": "current_use",
         "rawType": "object",
         "type": "unknown"
        },
        {
         "name": "uffi",
         "rawType": "object",
         "type": "unknown"
        },
        {
         "name": "portion_for_rent",
         "rawType": "object",
         "type": "unknown"
        },
        {
         "name": "laundries_on_level_third",
         "rawType": "object",
         "type": "unknown"
        },
        {
         "name": "shoreline",
         "rawType": "object",
         "type": "unknown"
        },
        {
         "name": "soil_type",
         "rawType": "object",
         "type": "unknown"
        },
        {
         "name": "waterfront",
         "rawType": "object",
         "type": "unknown"
        },
        {
         "name": "water_body_name",
         "rawType": "object",
         "type": "unknown"
        },
        {
         "name": "shoreline_road_allowance",
         "rawType": "object",
         "type": "unknown"
        },
        {
         "name": "other",
         "rawType": "object",
         "type": "unknown"
        },
        {
         "name": "golf",
         "rawType": "object",
         "type": "unknown"
        }
       ],
       "conversionMethod": "pd.DataFrame",
       "ref": "d9a1556b-6dd6-4a9f-a3c1-4ce0831dadf0",
       "rows": [
        [
         "0",
         "201 Brandenburg Court , Waterloo",
         "https://housesigma.com/on/waterloo-real-estate/201-brandenburg-court/home/MB5bO3xVqGkykWVP/",
         "Waterloo",
         "Detached",
         null,
         "$ 1,049,000",
         "$ 1,030,000",
         null,
         null,
         "[{\"event_hist\":\"Sold\"},{\"event_hist\":\"Sold\"},{\"event_hist\":\"\"},{\"event_hist\":\"\"},{\"event_hist\":\"Listed\"}]",
         "[{\"listing_hist\":\"X9243748\"},{\"listing_hist\":\"40628706\"}]",
         "[{\"event_date_start\":\"2024-08-06\"},{\"event_date_start\":\"2024-08-06\"}]",
         "[{\"event_start_end\":\"2024-11-12\"},{\"event_start_end\":\"2024-11-12\"}]",
         "[{\"event_price\":\"$1,030,000\"},{\"event_price\":\"$1,030,000\"}]",
         "X9243748",
         "Sold",
         "Sold in Nov 2024",
         "['Thoughtfully updated home on tranquil court location.', 'Beautiful view of nearby pond and trails from backyard.', 'Grand foyer with soaring ceilings and spacious carpet-free main floor.', 'Stunning new kitchen with large island, Wi-Fi-enabled stove, and quartz countertops.', 'Luxurious master bedroom with great view, his and hers closets, and modern ensuite.', 'Basement retreat with spacious recreation room and fireplace.', 'Fully fenced backyard with newer deck, gazebo, stone patio, and large shed for garden tools.']",
         "A home that truly captivates with its thoughtful updates! Nestled on atranquil court location, this residence offers a serene setting with only a few neighbour's and a beautiful view of a nearby pond and trails from the backyard. Step inside to be greeted by the grand foyer with its soaring ceilings and spacious carpet-free main floor. The open living and dining area is bathed in natural light. The family room provides sample room for hosting family gatherings. The highlight of the main floor is the stunning new kitchen, designed to inspire it features a large island with extensive counter space, Wi-Fi-enabled stove, premium quartz countertops and a generous pantry. Upstairs, you'll find 4  bedrooms including a luxurious master bedroom with a great view, his and hers closets, and a modern ensuite. The basement is a fantastic retreat, carpet-free flooring and a spacious recreation room complete with a fireplace and stone-decorated media centre. Outside, the fully fenced backyard provides an uninterrupted view of nature's beauty. So much to explore.\\nNewer 25-foot-long deck with a gazebo and terraced steps leading to a stone patio is a perfect spot for relaxation. The large shed is also perfect for storing all your garden tools. **INTERBOARD LISTING: CORNERSTONE  WATERLOO REGION**",
         "https://cache08.housesigma.com/file/pix-treb/X9243748/23b49_1.jpg?c965648a",
         "201 brandenburg crt",
         "201 BRANDENBURG CRT",
         "43.4535529396412",
         "-80.5764658226756",
         "POINT (-80.5764658226756 43.4535529396412)",
         "Clair Hills",
         "340.72234763450706",
         "5.833998558312807",
         "4",
         "45",
         "recreation,orinks,playgrounds,poi,pworship",
         "recreation_142,recreation_136,orinks_131,recreation_125,playgrounds_31,recreation_48,recreation_49,orinks_152,playgrounds_8,recreation_152,recreation_131,recreation_109,orinks_48,orinks_49,orinks_109,orinks_125,playgrounds_49,orinks_136,orinks_142,playgrounds_46,orinks_45,recreation_167,poi_69,orinks_167,recreation_45,playgrounds_23,orinks_47,playgrounds_2,recreation_47,playgrounds_82,orinks_106,recreation_106,orinks_44,recreation_44,orinks_123,recreation_123,orinks_43,recreation_43,playgrounds_44,orinks_46,orinks_92,pworship_9,recreation_46,playgrounds_54,recreation_92",
         "4,0,1,2,3",
         "$5, 202 / 2024",
         "Attached 2 garage,  2 parking",
         "Finished, Full",
         "X9243748",
         "TRREB",
         "SMART FROM HOME REALTY LIMITED",
         "98 days",
         "98 days",
         "3 months ago",
         "2024-08-06",
         "2024-11-15",
         null,
         null,
         null,
         null,
         null,
         "Detached",
         "2-Storey",
         "S",
         "Other",
         "Waterloo",
         "4",
         "3",
         "1,  3pc Bsmt floor",
         "Finished(Full)",
         "1",
         "11",
         "Y",
         "Municipal",
         "Central Air",
         "Forced Air",
         "Gas",
         "Brick,  Vinyl Siding",
         "Pvt Double",
         "Attached",
         "2.0",
         "2",
         "4.0",
         "Septic",
         "34.23",
         "145.73",
         "R5",
         "34 x 145 feet",
         "Feet",
         "< .50",
         "BRANDENBURG BLVD",
         null,
         null,
         null,
         null,
         null,
         null,
         null,
         null,
         null,
         null,
         null,
         null,
         null,
         null,
         null,
         null,
         null,
         null,
         null,
         null,
         null,
         null,
         null,
         null,
         null,
         null,
         null,
         null,
         null,
         null,
         null,
         null,
         null,
         null,
         null,
         null,
         null,
         null,
         null,
         null,
         null,
         null,
         null,
         null,
         null,
         null,
         null,
         null,
         null,
         null,
         null,
         null,
         null,
         null,
         null,
         null,
         null,
         null,
         null,
         null,
         null,
         null,
         null,
         null,
         null,
         null,
         null,
         null,
         null,
         null,
         null,
         null,
         null,
         null,
         null,
         null,
         null,
         null,
         null,
         null,
         null
        ],
        [
         "1",
         "757 Wood Lily Street , Waterloo",
         "https://housesigma.com/on/waterloo-real-estate/757-wood-lily-street/home/JRv53KDqWEPYVPW4/",
         "Waterloo",
         "Single Family Residence",
         null,
         "$ 1,249,000",
         "$ 1,228,000",
         null,
         null,
         "[{\"event_hist\":\"Sold\"},{\"event_hist\":\"Terminated\"}]",
         "[{\"listing_hist\":\"40669564\"},{\"listing_hist\":\"40619479\"}]",
         "[{\"event_date_start\":\"2024-10-27\"},{\"event_date_start\":\"2024-07-12\"}]",
         "[{\"event_start_end\":\"2024-11-15\"},{\"event_start_end\":\"2024-10-27\"}]",
         "[{\"event_price\":\"$1,228,000\"},{\"event_price\":\"$1,299,000\"}]",
         "40669564",
         "Sold",
         "Sold in Nov 2024",
         "['Spotless 4 bed, 4.5 bath house in the desirable Clair Hills community.', 'Convenient location just minutes from universities, Costco, and other amenities.', 'Each bedroom features a walk-in closet and its own bathroom; three bedrooms have ensuites.', 'Open concept design with 9 ft. ceilings and upgraded flooring on the main level.', 'Enhanced wet areas with upgraded ceramics throughout the home.', 'Modern kitchen includes granite countertops, upgraded cabinets, an island, and undermount lighting.', 'Additional upgrades include central air, 8 ft. interior doors, colored windows, and upgraded carpet.']",
         "Better than new! Rarely found spotless 4 bed, 4.5 bath house in desirable Clair Hills community, a few minutes drive to universities, Costco and all other amenities. you will be thrilled to find out that every bedroom has walk in closet and its own bathroom (3 bedrooms with ensuites), 9ft. ceiling and open concept with upgraded floor on main level and upgraded ceramics in all wet areas. and lots more upgrades such as central air, granite kitchens countertop and upgraded cabinets with island and undermount lighting,8 feet high interior door, upgraded patio door, colored windows, upgraded carpet, etc.",
         "https://cache08.housesigma.com/file/pix-itso/155126338/543fe_1.jpg?e887d48c",
         "757 wood lily st",
         "757 WOOD LILY ST ",
         "43.461727323091",
         "-80.6005465946029",
         "POINT (-80.6005465946029 43.461727323091)",
         "Vista Hills",
         "944.4213679283739",
         "6.851630720101149",
         "4",
         "40",
         "recreation,orinks,playgrounds",
         "recreation_56,orinks_56,recreation_53,orinks_57,recreation_67,orinks_53,playgrounds_18,orinks_67,recreation_113,recreation_57,playgrounds_26,playgrounds_67,recreation_108,orinks_113,orinks_108,playgrounds_11,playgrounds_52,orinks_59,orinks_139,orinks_58,orinks_148,recreation_59,playgrounds_3,recreation_148,playgrounds_22,recreation_139,recreation_58,recreation_55,orinks_55,playgrounds_25,orinks_149,orinks_98,recreation_135,playgrounds_66,recreation_60,recreation_98,orinks_135,orinks_60,playgrounds_21,recreation_149",
         "4,0,1",
         "$7, 056 / 2023",
         "2 garage,  4 parking",
         "Unfinished",
         "40669564",
         "ITSO",
         "GREEN CITY REALTY INC.",
         "19 days",
         "126 days",
         "1 month ago",
         "2024-10-27",
         "2025-01-17",
         "2018",
         "20.47 ft x 24.12 ft x 95.33 ft x 44.37 ft x 98.30",
         null,
         null,
         null,
         "Single Family Residence",
         "Two Story",
         null,
         "Other",
         "Waterloo",
         "4",
         "5",
         null,
         null,
         "1",
         "14",
         null,
         "Municipal",
         null,
         null,
         null,
         "Brick,  Vinyl Siding",
         null,
         null,
         "2",
         null,
         "4",
         "Sewer (Municipal)",
         null,
         "95.87",
         "R6",
         "44 x 95 feet",
         null,
         "< 0.5",
         null,
         "East",
         "Air Exchanger",
         "Dishwasher, Dryer, Garage Door Opener, Range Hood, Refrigerator, Smoke Detector, Stove, Washer, Window Coverings",
         "4",
         "0",
         "4",
         "4",
         "1",
         "1",
         "2",
         "2",
         "0",
         "4",
         "1",
         "0",
         "1",
         "In-Suite",
         "1",
         "Forced Air,  Natural Gas",
         "2677 feet²",
         "2018",
         "Two Story",
         "Sundew/Mayapple",
         "Asphalt Shing",
         "Poured Concrete",
         "Smoke Detector",
         "Private Drive Double Wide",
         "Attached Garage,  Garage Door Opener,  Asphalt",
         "Urban,  Rectangular,  Playground Nearby,  Schools,  Shopping Nearby",
         "Square Feet",
         "44.29",
         null,
         null,
         null,
         null,
         null,
         null,
         null,
         null,
         null,
         null,
         null,
         null,
         null,
         null,
         null,
         null,
         null,
         null,
         null,
         null,
         null,
         null,
         null,
         null,
         null,
         null,
         null,
         null,
         null,
         null,
         null,
         null,
         null,
         null,
         null,
         null,
         null,
         null,
         null,
         null,
         null,
         null,
         null,
         null,
         null,
         null,
         null,
         null,
         null,
         null
        ],
        [
         "2",
         "460 Drake Circle , Waterloo",
         "https://housesigma.com/on/waterloo-real-estate/460-drake-circle/home/ZxwR7MwJde2YKabB/",
         "Waterloo",
         "Single Family Residence",
         null,
         "$ 1,629,000",
         "$ 1,457,500",
         null,
         null,
         "[{\"event_hist\":\"Sold\"},{\"event_hist\":\"Terminated\"}]",
         "[{\"listing_hist\":\"40639975\"},{\"listing_hist\":\"40563843\"}]",
         "[{\"event_date_start\":\"2024-08-31\"},{\"event_date_start\":\"2024-05-10\"}]",
         "[{\"event_start_end\":\"2024-11-15\"},{\"event_start_end\":\"2024-08-30\"}]",
         "[{\"event_price\":\"$1,457,500\"},{\"event_price\":\"$1,599,999\"}]",
         "40639975",
         "Sold",
         "Sold in Nov 2024",
         "['Newly renovated executive home in Upper Beechwood featuring a finished basement, ready for move-in.', 'All-brick construction on a spacious pie-shaped lot at a quiet cul-de-sac, ideal for families.', 'The residence includes 4 large bedrooms (with potential for a 5th), 4 bathrooms, an office, and high-end finishes.', 'Entertain in style with an expansive dining room, two family rooms, and a finished basement with a sauna and wet bar.', \"Chef's kitchen equipped with custom cabinetry, granite countertops, and an induction stove; abundant natural light from Bavarian windows.\", 'Private landscaped backyard oasis with a large composite deck, stone patio, and gas hookup for BBQs; includes a powered storage shed.', 'Convenient features include a concrete driveway, double car garage, custom laundry cabinetry, and access to a community pool and amenities in a sought-after school area.']",
         "EXECUTIVE HOME WITH NEWLY RENOVATED BASEMENT COMPLETE and ready for DEBUT.  Welcome to alluring UPPER BEECHWOOD ... this move in ready all BRICK home on a SPRAWLING pie shaped lot on a quiet CUL DE SAC is FAMILY ready. Boasting 4 large bedrooms (with a potential 5th bedroom in the basement where the gym is), 4 bathrooms, an office, and high end finishes throughout, this residence is a haven of sophistication and custom finishes. Entertain in style in the expansive dining room and two family rooms, or retreat to the finished basement complete with a sauna and wet bar area. Discover a chef's dream kitchen with custom cabinetry, granite countertops, and an induction stove. Bavarian windows flood the space with natural light, creating a warm and inviting atmosphere. Cozy up by one of two gas fireplaces—adding charm and elegance to the home. The primary bedroom incudes a 5 piece ensuite with soaker tub and large walk in closet, while the laundry room features custom cabinetry for added convenience. This property features its own PRIVATE OASIS, landscaped backyard with a large composite deck & stone patio perfect for dining and entertaining (with gas hook up for the bbq). The storage shed is complete with power.  The concrete driveway leads to a double car garage, while the manicured walkway and porch enhance the home's curb appeal. This home is located in a coveted school area where residents have access to a community in-ground pool, incredible amenities and close to the university. Welcome to 460 Drake Circle.",
         "https://cache09.housesigma.com/file/pix-itso/153372705/425c2_1.jpg?0c7f93db",
         "460 drake cir",
         "460 DRAKE CIR",
         "43.4552551970096",
         "-80.5585196361092",
         "POINT (-80.5585196361092 43.4552551970096)",
         "Beechwood West II",
         "583.8788353142762",
         "6.371404706658834",
         "4",
         "28",
         "recreation,orinks,playgrounds,pworship",
         "recreation_163,orinks_163,playgrounds_73,orinks_42,orinks_41,playgrounds_47,orinks_37,orinks_92,orinks_164,recreation_68,recreation_37,recreation_164,pworship_8,playgrounds_56,orinks_68,recreation_41,recreation_92,playgrounds_43,orinks_119,playgrounds_83,orinks_35,recreation_105,orinks_104,recreation_35,recreation_119,recreation_104,orinks_105,recreation_42",
         "4,0,1,3",
         "$7, 225 / 2023",
         "2 garage,  6 parking",
         "Finished",
         "40639975",
         "ITSO",
         "Royal LePage Wolle Realty",
         "76 days",
         "188 days",
         "1 month ago",
         "2024-08-31",
         "2025-01-07",
         "1984",
         null,
         null,
         null,
         null,
         "Single Family Residence",
         "Two Story",
         null,
         "Other",
         "Waterloo",
         "4",
         "4",
         null,
         null,
         "1",
         "21",
         null,
         "Municipal",
         "Central Air",
         null,
         null,
         "Brick",
         null,
         null,
         "2",
         null,
         "6",
         "Sewer (Municipal)",
         null,
         "132.86",
         "R1",
         "45 x 132 feet",
         null,
         "< 0.5",
         null,
         "East",
         "Sauna",
         "Built-in Microwave, Dishwasher, Dryer, Refrigerator, Stove, Washer",
         "4",
         "0",
         "4",
         "3",
         "1",
         "1",
         "2",
         "0",
         "1",
         "2",
         "1",
         "0",
         "1",
         null,
         null,
         "Forced Air",
         "2595 feet²",
         "1984",
         "Two Story",
         "Winchester to Drake Circle",
         "Asphalt Shing",
         "Poured Concrete",
         null,
         "Private Drive Double Wide",
         "Attached Garage,  Concrete",
         "Urban,  Pie Shaped Lot,  Greenbelt,  Landscaped,  Library,  Major Highway,  Park,  Place of Worship,  Quiet Area,  Rec./Community Centre,  Shopping Nearby",
         "Square Feet",
         "45.08",
         "1",
         "Gas",
         "2",
         "1",
         "Landscaped",
         "Community",
         "Flat",
         null,
         null,
         null,
         null,
         null,
         null,
         null,
         null,
         null,
         null,
         null,
         null,
         null,
         null,
         null,
         null,
         null,
         null,
         null,
         null,
         null,
         null,
         null,
         null,
         null,
         null,
         null,
         null,
         null,
         null,
         null,
         null,
         null,
         null,
         null,
         null,
         null,
         null,
         null,
         null,
         null,
         null,
         null
        ],
        [
         "3",
         "605 Sundew Drive , Waterloo",
         "https://housesigma.com/on/waterloo-real-estate/605-sundew-drive/home/NkKJ3JdXLZzyd4V6/",
         "Waterloo",
         "Single Family Residence",
         null,
         "$ 1,079,900",
         "$ 1,110,000",
         null,
         null,
         "[{\"event_hist\":\"Sold\"},{\"event_hist\":\"Terminated\"},{\"event_hist\":\"Expired\"},{\"event_hist\":\"Terminated\"}]",
         "[{\"listing_hist\":\"40673416\"},{\"listing_hist\":\"40668560\"},{\"listing_hist\":\"40636280\"},{\"listing_hist\":\"40635544\"}]",
         "[{\"event_date_start\":\"2024-11-07\"},{\"event_date_start\":\"2024-10-24\"},{\"event_date_start\":\"2024-08-21\"},{\"event_date_start\":\"2024-08-19\"}]",
         "[{\"event_start_end\":\"2024-11-16\"},{\"event_start_end\":\"2024-11-02\"},{\"event_start_end\":\"2024-10-22\"},{\"event_start_end\":\"2024-08-23\"}]",
         "[{\"event_price\":\"$1,110,000\"},{\"event_price\":\"$1,190,000\"},{\"event_price\":\"$1,199,000\"},{\"event_price\":\"$3,600\"}]",
         "40673416",
         "Sold",
         "Sold in Nov 2024",
         "['Beautiful and spacious family home located in the desirable Vista Hills neighborhood, surrounded by greenspace.', 'Open concept main floor features 9-foot ceilings and hardwood flooring in the great room.', 'Gourmet kitchen includes a walk-in pantry, large island, and quartz countertops.', 'Dining area walks out to a fully fenced backyard with a gazebo on a large concrete patio.', 'Second floor offers 4 spacious bedrooms and 2 full bathrooms, with the master featuring double walk-in closets and a luxury ensuite.', 'Huge unspoiled basement provides ample space for activities, with a rough-in for a 4th bathroom.', 'Conveniently located near Vista Hill Public School, Costco, hiking trails, universities, and other amenities; backyard oasis completed in 2021 with shed and gazebo included.']",
         "Surrounded by abundant greenspace in the sought after Vista Hills neighborhood, this beautiful and spacious family home is move-in ready. The gorgeous open concept main floor features 9 feet ceilings, hardwood floor in great room. The gourmet kitchen features a walk-in pantry, large island and quartz countertops. Walkout from the dining area to the fully fenced backyard, you will find a fancy gazebo installed on a large concrete patio. On the second floor of this house, there are 4 spacious bedrooms and two full bathrooms, the master bedroom offers two walk-in closets and a luxury ensuite with double sink, walk-in shower and separate tub. The huge unspoiled basement provides lots of space for a ping pong table, rough-in for a 4th bathroom is also available. Near Vista Hill Public School, Costco, Long Hiking Trails, and a short drive to both Universities and all other amenities. Backyard oasis done in 2021, shed and gazebo included. Hot water heater owned.",
         "https://cache15.housesigma.com/file/pix-itso/155326241/795bc_1.jpg?98508030",
         "605 sundew dr",
         "605 SUNDEW DR",
         "43.4602007574987",
         "-80.5979284333165",
         "POINT (-80.5979284333165 43.4602007574987)",
         "Vista Hills",
         "1034.7455338738293",
         "6.942876768975084",
         "4",
         "41",
         "recreation,orinks,playgrounds",
         "recreation_56,orinks_56,recreation_53,orinks_57,recreation_67,recreation_52,orinks_53,orinks_52,playgrounds_60,playgrounds_18,orinks_67,recreation_113,recreation_57,playgrounds_26,playgrounds_67,playgrounds_34,recreation_108,orinks_113,orinks_108,playgrounds_11,playgrounds_52,orinks_124,orinks_59,orinks_139,orinks_58,orinks_148,recreation_59,playgrounds_3,recreation_148,playgrounds_22,recreation_124,recreation_139,recreation_58,recreation_55,orinks_55,playgrounds_25,recreation_135,recreation_60,orinks_135,orinks_60,playgrounds_21",
         "4,0,1",
         "$6, 477 / 2024",
         "2 garage,  4 parking",
         "Unfinished",
         "40673416",
         "ITSO",
         "Royal LePage Peaceland Realty",
         "9 days",
         "80 days",
         "1 month ago",
         "2024-11-07",
         "2025-01-15",
         "2016",
         "26.73 ft x 117.65 ft x 46.31 ft x 119.61 ft x 9.79",
         null,
         null,
         null,
         "Single Family Residence",
         "Two Story",
         null,
         "Other",
         "Waterloo",
         "4",
         "3",
         null,
         null,
         "1",
         "10",
         null,
         "Municipal",
         "Central Air",
         null,
         null,
         "Shingle Siding,  Stone,  Vinyl Siding",
         null,
         null,
         "2",
         null,
         "4",
         "Sewer (Municipal)",
         null,
         "117.65",
         "R6",
         "46 x 117 feet",
         null,
         "< 0.5",
         null,
         "West",
         null,
         "Dishwasher, Dryer, Hot Water Tank Owned, Refrigerator, Stove, Washer",
         "4",
         "0",
         "4",
         "2",
         "1",
         "1",
         "0",
         "1",
         "0",
         "2",
         "1",
         "0",
         "0",
         null,
         null,
         "Forced Air,  Natural Gas",
         "2345 feet²",
         "2016",
         "Two Story",
         "Mayapple St to Sundew Dr",
         "Asphalt Shing",
         "Poured Concrete",
         null,
         "Private Drive Double Wide",
         "Attached Garage,  Asphalt",
         "Urban,  Irregular Lot,  Park,  Schools,  Shopping Nearby,  Trails",
         "Square Feet",
         "46.31",
         null,
         null,
         null,
         null,
         null,
         null,
         null,
         null,
         null,
         null,
         null,
         null,
         null,
         null,
         null,
         null,
         null,
         null,
         null,
         null,
         null,
         null,
         null,
         null,
         null,
         null,
         null,
         null,
         null,
         null,
         null,
         null,
         null,
         null,
         null,
         null,
         null,
         null,
         null,
         null,
         null,
         null,
         null,
         null,
         null,
         null,
         null,
         null,
         null,
         null
        ],
        [
         "4",
         "621 Wild Rye Street , Waterloo",
         "https://housesigma.com/on/waterloo-real-estate/621-wild-rye-street/home/bqB176WNbzB3ZajD/",
         "Waterloo",
         "Single Family Residence",
         null,
         "$ 1,050,000",
         "$ 1,045,000",
         null,
         null,
         "[{\"event_hist\":\"Sold\"},{\"event_hist\":\"Expired\"},{\"event_hist\":\"\"},{\"event_hist\":\"\"},{\"event_hist\":\"Listed\"}]",
         "[{\"listing_hist\":\"40644628\"},{\"listing_hist\":\"40588832\"}]",
         "[{\"event_date_start\":\"2024-09-16\"},{\"event_date_start\":\"2024-05-13\"}]",
         "[{\"event_start_end\":\"2024-11-18\"},{\"event_start_end\":\"2024-09-01\"}]",
         "[{\"event_price\":\"$1,045,000\"},{\"event_price\":\"$1,149,900\"}]",
         "40644628",
         "Sold",
         "Sold in Nov 2024",
         "['Located in the prestigious Vista Hills community, 621 Wild Rye Street is a stunning family home, better than new.', 'The home features 3 bedrooms, 2.5 bathrooms, and an upstairs family room, providing ample space for families.', 'The main floor boasts 9-foot ceilings and an open-concept layout that includes a bright living room, dining area, and gourmet kitchen with granite countertops and a spacious island.', 'The second floor offers a master suite with a walk-in closet and luxurious 4-piece ensuite, along with two additional well-sized bedrooms.', 'A bright family room upstairs provides a perfect gathering space for quality time with loved ones.', 'Both front and back yards are professionally landscaped, with the backyard featuring an interlock-paved patio.', 'The home is conveniently located near top-rated schools, the University of Waterloo, and various shops and restaurants, making it an ideal choice for families.']",
         "Welcome to 621 Wild Rye Street, a stunning family home nestled in the prestigious and highly sought-after Vista Hills community! This better than new exceptional home offers 3 bedrooms, an upstairs family room, and 2.5 bathrooms. Upon entry, you're greeted by a welcoming foyer that opens to a main floor with 9-foot ceilings, where a bright, open-concept living room, dining area, and kitchen await. Natural light pours in through large windows, creating a warm and inviting atmosphere throughout. The gourmet kitchen features a spacious island and elegant granite countertops. On the second floor, you’ll find 3 bedrooms, 2 bathrooms, and a generously-sized family room. The master suite includes a large walk-in closet and a luxurious 4-piece ensuite. The additional two bedrooms are well-sized, with plenty of natural light streaming through large windows. The bright upstairs family room is the ideal spot for quality time with loved ones. Both the front and back yards have been professionally landscaped, with the backyard featuring a charming interlock-paved patio. The unfinished basement, complete with a cold room, offers endless possibilities for customization. Located close to top-rated schools, the University of Waterloo, and just minutes from Costco and the Boardwalk's array of shops and restaurants, this home is an incredible opportunity to settle in a vibrant, friendly neighborhood!",
         "https://cache-e14.housesigma.com/file/pix-itso/153786769/5f06b_1.jpg?28142db4",
         "621 wild rye st",
         "621 WILD RYE ST ",
         "43.4589085905147",
         "-80.6007008559896",
         "POINT (-80.6007008559896 43.4589085905147)",
         "Vista Hills",
         "1084.399714723481",
         "6.989703598798499",
         "4",
         "17",
         "orinks,recreation,playgrounds",
         "orinks_57,recreation_67,playgrounds_18,orinks_67,recreation_57,playgrounds_67,playgrounds_11,orinks_59,orinks_139,orinks_148,recreation_59,playgrounds_3,recreation_148,playgrounds_22,recreation_139,recreation_135,orinks_135",
         "0,4,1",
         "$6, 273 / 2024",
         "2 garage,  4 parking",
         "Unfinished",
         "40644628",
         "ITSO",
         "CENTURY 21 HERITAGE HOUSE LTD.",
         "63 days",
         "174 days",
         "1 month ago",
         "2024-09-16",
         "2025-01-15",
         null,
         null,
         null,
         null,
         null,
         "Single Family Residence",
         "Two Story",
         null,
         "Other",
         "Waterloo",
         "3",
         "3",
         null,
         null,
         "1",
         "11",
         null,
         "Municipal",
         "Central Air",
         null,
         null,
         "Brick,  Vinyl Siding",
         null,
         null,
         "2",
         null,
         "4",
         "Sewer (Municipal)",
         null,
         "99.25",
         "R6",
         "36 x 99 feet",
         null,
         "< 0.5",
         null,
         "North",
         "Auto Garage Door Remote(s)",
         "Dishwasher, Dryer, Refrigerator, Stove, Washer",
         "3",
         "0",
         "3",
         "2",
         "1",
         "1",
         "1",
         "0",
         "0",
         "2",
         "1",
         "0",
         "1",
         "Main Level",
         null,
         "Forced Air,  Natural Gas",
         "2151 feet²",
         null,
         "Two Story",
         "Autumn Willow to Wild Rye",
         "Asphalt Shing",
         "Poured Concrete",
         "Smoke Detector(s)",
         "Private Drive Double Wide",
         "Attached Garage",
         "Urban,  Playground Nearby,  Quiet Area,  School Bus Route,  Schools,  Shopping Nearby,  Trails",
         "Square Feet",
         "36.09",
         null,
         null,
         null,
         "1",
         null,
         null,
         null,
         null,
         null,
         null,
         null,
         null,
         null,
         null,
         null,
         null,
         null,
         null,
         null,
         null,
         null,
         null,
         null,
         null,
         null,
         null,
         null,
         null,
         null,
         null,
         null,
         null,
         null,
         null,
         null,
         null,
         null,
         null,
         null,
         null,
         null,
         null,
         null,
         null,
         null,
         null,
         null,
         null,
         null,
         null
        ]
       ],
       "shape": {
        "columns": 160,
        "rows": 5
       }
      },
      "text/html": [
       "<div>\n",
       "<style scoped>\n",
       "    .dataframe tbody tr th:only-of-type {\n",
       "        vertical-align: middle;\n",
       "    }\n",
       "\n",
       "    .dataframe tbody tr th {\n",
       "        vertical-align: top;\n",
       "    }\n",
       "\n",
       "    .dataframe thead th {\n",
       "        text-align: right;\n",
       "    }\n",
       "</style>\n",
       "<table border=\"1\" class=\"dataframe\">\n",
       "  <thead>\n",
       "    <tr style=\"text-align: right;\">\n",
       "      <th></th>\n",
       "      <th>listing</th>\n",
       "      <th>listing_url</th>\n",
       "      <th>city</th>\n",
       "      <th>type</th>\n",
       "      <th>for_sale_price</th>\n",
       "      <th>listed</th>\n",
       "      <th>sold</th>\n",
       "      <th>sold_conditional</th>\n",
       "      <th>expired</th>\n",
       "      <th>event_hist</th>\n",
       "      <th>...</th>\n",
       "      <th>uffi</th>\n",
       "      <th>portion_for_rent</th>\n",
       "      <th>laundries_on_level_third</th>\n",
       "      <th>shoreline</th>\n",
       "      <th>soil_type</th>\n",
       "      <th>waterfront</th>\n",
       "      <th>water_body_name</th>\n",
       "      <th>shoreline_road_allowance</th>\n",
       "      <th>other</th>\n",
       "      <th>golf</th>\n",
       "    </tr>\n",
       "  </thead>\n",
       "  <tbody>\n",
       "    <tr>\n",
       "      <th>0</th>\n",
       "      <td>201 Brandenburg Court , Waterloo</td>\n",
       "      <td>https://housesigma.com/on/waterloo-real-estate...</td>\n",
       "      <td>Waterloo</td>\n",
       "      <td>Detached</td>\n",
       "      <td>NaN</td>\n",
       "      <td>$ 1,049,000</td>\n",
       "      <td>$ 1,030,000</td>\n",
       "      <td>NaN</td>\n",
       "      <td>NaN</td>\n",
       "      <td>[{\"event_hist\":\"Sold\"},{\"event_hist\":\"Sold\"},{...</td>\n",
       "      <td>...</td>\n",
       "      <td>NaN</td>\n",
       "      <td>NaN</td>\n",
       "      <td>NaN</td>\n",
       "      <td>NaN</td>\n",
       "      <td>NaN</td>\n",
       "      <td>NaN</td>\n",
       "      <td>NaN</td>\n",
       "      <td>NaN</td>\n",
       "      <td>NaN</td>\n",
       "      <td>NaN</td>\n",
       "    </tr>\n",
       "    <tr>\n",
       "      <th>1</th>\n",
       "      <td>757 Wood Lily Street , Waterloo</td>\n",
       "      <td>https://housesigma.com/on/waterloo-real-estate...</td>\n",
       "      <td>Waterloo</td>\n",
       "      <td>Single Family Residence</td>\n",
       "      <td>NaN</td>\n",
       "      <td>$ 1,249,000</td>\n",
       "      <td>$ 1,228,000</td>\n",
       "      <td>NaN</td>\n",
       "      <td>NaN</td>\n",
       "      <td>[{\"event_hist\":\"Sold\"},{\"event_hist\":\"Terminat...</td>\n",
       "      <td>...</td>\n",
       "      <td>NaN</td>\n",
       "      <td>NaN</td>\n",
       "      <td>NaN</td>\n",
       "      <td>NaN</td>\n",
       "      <td>NaN</td>\n",
       "      <td>NaN</td>\n",
       "      <td>NaN</td>\n",
       "      <td>NaN</td>\n",
       "      <td>NaN</td>\n",
       "      <td>NaN</td>\n",
       "    </tr>\n",
       "    <tr>\n",
       "      <th>2</th>\n",
       "      <td>460 Drake Circle , Waterloo</td>\n",
       "      <td>https://housesigma.com/on/waterloo-real-estate...</td>\n",
       "      <td>Waterloo</td>\n",
       "      <td>Single Family Residence</td>\n",
       "      <td>NaN</td>\n",
       "      <td>$ 1,629,000</td>\n",
       "      <td>$ 1,457,500</td>\n",
       "      <td>NaN</td>\n",
       "      <td>NaN</td>\n",
       "      <td>[{\"event_hist\":\"Sold\"},{\"event_hist\":\"Terminat...</td>\n",
       "      <td>...</td>\n",
       "      <td>NaN</td>\n",
       "      <td>NaN</td>\n",
       "      <td>NaN</td>\n",
       "      <td>NaN</td>\n",
       "      <td>NaN</td>\n",
       "      <td>NaN</td>\n",
       "      <td>NaN</td>\n",
       "      <td>NaN</td>\n",
       "      <td>NaN</td>\n",
       "      <td>NaN</td>\n",
       "    </tr>\n",
       "    <tr>\n",
       "      <th>3</th>\n",
       "      <td>605 Sundew Drive , Waterloo</td>\n",
       "      <td>https://housesigma.com/on/waterloo-real-estate...</td>\n",
       "      <td>Waterloo</td>\n",
       "      <td>Single Family Residence</td>\n",
       "      <td>NaN</td>\n",
       "      <td>$ 1,079,900</td>\n",
       "      <td>$ 1,110,000</td>\n",
       "      <td>NaN</td>\n",
       "      <td>NaN</td>\n",
       "      <td>[{\"event_hist\":\"Sold\"},{\"event_hist\":\"Terminat...</td>\n",
       "      <td>...</td>\n",
       "      <td>NaN</td>\n",
       "      <td>NaN</td>\n",
       "      <td>NaN</td>\n",
       "      <td>NaN</td>\n",
       "      <td>NaN</td>\n",
       "      <td>NaN</td>\n",
       "      <td>NaN</td>\n",
       "      <td>NaN</td>\n",
       "      <td>NaN</td>\n",
       "      <td>NaN</td>\n",
       "    </tr>\n",
       "    <tr>\n",
       "      <th>4</th>\n",
       "      <td>621 Wild Rye Street , Waterloo</td>\n",
       "      <td>https://housesigma.com/on/waterloo-real-estate...</td>\n",
       "      <td>Waterloo</td>\n",
       "      <td>Single Family Residence</td>\n",
       "      <td>NaN</td>\n",
       "      <td>$ 1,050,000</td>\n",
       "      <td>$ 1,045,000</td>\n",
       "      <td>NaN</td>\n",
       "      <td>NaN</td>\n",
       "      <td>[{\"event_hist\":\"Sold\"},{\"event_hist\":\"Expired\"...</td>\n",
       "      <td>...</td>\n",
       "      <td>NaN</td>\n",
       "      <td>NaN</td>\n",
       "      <td>NaN</td>\n",
       "      <td>NaN</td>\n",
       "      <td>NaN</td>\n",
       "      <td>NaN</td>\n",
       "      <td>NaN</td>\n",
       "      <td>NaN</td>\n",
       "      <td>NaN</td>\n",
       "      <td>NaN</td>\n",
       "    </tr>\n",
       "  </tbody>\n",
       "</table>\n",
       "<p>5 rows × 160 columns</p>\n",
       "</div>"
      ],
      "text/plain": [
       "                            listing  \\\n",
       "0  201 Brandenburg Court , Waterloo   \n",
       "1   757 Wood Lily Street , Waterloo   \n",
       "2       460 Drake Circle , Waterloo   \n",
       "3       605 Sundew Drive , Waterloo   \n",
       "4    621 Wild Rye Street , Waterloo   \n",
       "\n",
       "                                         listing_url      city  \\\n",
       "0  https://housesigma.com/on/waterloo-real-estate...  Waterloo   \n",
       "1  https://housesigma.com/on/waterloo-real-estate...  Waterloo   \n",
       "2  https://housesigma.com/on/waterloo-real-estate...  Waterloo   \n",
       "3  https://housesigma.com/on/waterloo-real-estate...  Waterloo   \n",
       "4  https://housesigma.com/on/waterloo-real-estate...  Waterloo   \n",
       "\n",
       "                      type for_sale_price       listed         sold  \\\n",
       "0                 Detached            NaN  $ 1,049,000  $ 1,030,000   \n",
       "1  Single Family Residence            NaN  $ 1,249,000  $ 1,228,000   \n",
       "2  Single Family Residence            NaN  $ 1,629,000  $ 1,457,500   \n",
       "3  Single Family Residence            NaN  $ 1,079,900  $ 1,110,000   \n",
       "4  Single Family Residence            NaN  $ 1,050,000  $ 1,045,000   \n",
       "\n",
       "  sold_conditional expired                                         event_hist  \\\n",
       "0              NaN     NaN  [{\"event_hist\":\"Sold\"},{\"event_hist\":\"Sold\"},{...   \n",
       "1              NaN     NaN  [{\"event_hist\":\"Sold\"},{\"event_hist\":\"Terminat...   \n",
       "2              NaN     NaN  [{\"event_hist\":\"Sold\"},{\"event_hist\":\"Terminat...   \n",
       "3              NaN     NaN  [{\"event_hist\":\"Sold\"},{\"event_hist\":\"Terminat...   \n",
       "4              NaN     NaN  [{\"event_hist\":\"Sold\"},{\"event_hist\":\"Expired\"...   \n",
       "\n",
       "   ... uffi portion_for_rent laundries_on_level_third shoreline soil_type  \\\n",
       "0  ...  NaN              NaN                      NaN       NaN       NaN   \n",
       "1  ...  NaN              NaN                      NaN       NaN       NaN   \n",
       "2  ...  NaN              NaN                      NaN       NaN       NaN   \n",
       "3  ...  NaN              NaN                      NaN       NaN       NaN   \n",
       "4  ...  NaN              NaN                      NaN       NaN       NaN   \n",
       "\n",
       "  waterfront water_body_name shoreline_road_allowance other golf  \n",
       "0        NaN             NaN                      NaN   NaN  NaN  \n",
       "1        NaN             NaN                      NaN   NaN  NaN  \n",
       "2        NaN             NaN                      NaN   NaN  NaN  \n",
       "3        NaN             NaN                      NaN   NaN  NaN  \n",
       "4        NaN             NaN                      NaN   NaN  NaN  \n",
       "\n",
       "[5 rows x 160 columns]"
      ]
     },
     "execution_count": 4,
     "metadata": {},
     "output_type": "execute_result"
    }
   ],
   "source": [
    "houses.head()"
   ]
  },
  {
   "cell_type": "markdown",
   "metadata": {},
   "source": [
    "The following will process the above and create a table that is ML ready."
   ]
  },
  {
   "cell_type": "code",
   "execution_count": null,
   "metadata": {},
   "outputs": [],
   "source": [
    "if model_choice == \"Random Forest\":\n",
    "    houses['neighbourhood_impact'] = pd.Categorical(houses['neighbourhood']).codes\n",
    "    houses['roof'] = pd.Categorical(houses['roof']).codes\n",
    "    houses['architecture_style'] = pd.Categorical(houses['architecture_style']).codes\n",
    "    houses['frontage_type'] = pd.Categorical(houses['frontage_type']).codes\n",
    "\n",
    "houses = houses.dropna(subset=['sold'])\n",
    "ml_houses = fe.feature_refining(houses)\n",
    "\n",
    "columns_to_encode = [\n",
    "                        # 'property_type',\n",
    "                        'driveway_parking',\n",
    "                        'basement_type',\n",
    "                        #  'bathrooms_detail', 'sewer', 'topography',\n",
    "                        'lot_features',\n",
    "                        'exterior_feature',\n",
    "                        'waterfront_features', \n",
    "                        'appliances_included',\n",
    "                        'laundry_features',\n",
    "                        ]\n",
    "split_exceptions = ['bathrooms_detail',]\n",
    "\n",
    "if model_choice == \"Ridge Regression\":\n",
    "    columns_to_encode += ['neighbourhood', 'architecture_style', 'roof', 'frontage_type']\n",
    "\n",
    "# TODO: Appliances Excluded has to be penalizing in giving value to the prices\n",
    "\n",
    "for column in columns_to_encode:\n",
    "    if column in houses.columns:\n",
    "        encoded_df = fe.one_hot_encode_column(houses, column, split_exceptions=split_exceptions)\n",
    "        ml_houses = pd.concat([ml_houses, encoded_df], axis=1)"
   ]
  },
  {
   "cell_type": "code",
   "execution_count": null,
   "metadata": {},
   "outputs": [],
   "source": [
    "houses['depth'].fillna(ml_houses['depth'].mean())\n",
    "ml_houses['frontage_length'].fillna(ml_houses['frontage_length'].mean())\n",
    "ml_houses = ml_houses.fillna(0)\n",
    "\n",
    "# This is the final dataframe that will be used for ML\n",
    "# features == X and price == y\n",
    "\n",
    "features = ml_houses.drop(columns=['listing_id', 'listing'])\n",
    "price = ml_houses['price']\n",
    "\n",
    "features = fe.correlation_analysis(features)"
   ]
  }
 ],
 "metadata": {
  "kernelspec": {
   "display_name": "dss",
   "language": "python",
   "name": "python3"
  },
  "language_info": {
   "codemirror_mode": {
    "name": "ipython",
    "version": 3
   },
   "file_extension": ".py",
   "mimetype": "text/x-python",
   "name": "python",
   "nbconvert_exporter": "python",
   "pygments_lexer": "ipython3",
   "version": "3.12.4"
  }
 },
 "nbformat": 4,
 "nbformat_minor": 2
}
